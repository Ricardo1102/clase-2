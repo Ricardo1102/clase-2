{
 "cells": [
  {
   "cell_type": "code",
   "execution_count": 1,
   "metadata": {},
   "outputs": [],
   "source": [
    "def amortizar(**kwarg):\n",
    "    \n",
    "    print(kwarg)\n",
    "    print('Deuda: ', kwarg[\"d\"])\n",
    "    print('Tasa: ', kwarg[\"t\"])\n",
    "    print('Periodos: ', kwarg[\"n\"])\n",
    "    \n",
    "    d = float(kwarg[\"d\"])\n",
    "    t = float(kwarg[\"t\"])\n",
    "    n = int(kwarg[\"n\"])\n",
    "    \n",
    "    r = (d * t) / (1 - pow((1+t),- n)) # Cuota de amortizacion\n",
    "    k = 0\n",
    "    tabla = []\n",
    "    while k!= n:\n",
    "        renglon = []\n",
    "        \n",
    "        i = d * t # Interes\n",
    "        a = r - i # amortizacion\n",
    "        d = d - a # deuda\n",
    "        k += 1 # Contador de periodos\n",
    "        \n",
    "        renglon.append(i)\n",
    "        renglon.append(a)\n",
    "        renglon.append(int(d))\n",
    "        renglon.append(k)\n",
    "        tabla.append(renglon)\n",
    "    \n",
    "    for i in tabla:\n",
    "        print(i)"
   ]
  },
  {
   "cell_type": "code",
   "execution_count": 2,
   "metadata": {},
   "outputs": [],
   "source": [
    "def calculadora(a:float,b:float,opc:str):\n",
    "    if opc == '+':\n",
    "        c = a + b\n",
    "        print(c)\n",
    "        \n",
    "    if opc == '-':\n",
    "        c = a - b\n",
    "        print(c)\n",
    "        \n",
    "    if opc == '*':\n",
    "        c = a * b\n",
    "        print(c)\n",
    "        \n",
    "    if opc == '/':\n",
    "        if b != 0:\n",
    "            c = a / b\n",
    "            print(c)       \n",
    "        else:\n",
    "            print('Error')"
   ]
  },
  {
   "cell_type": "code",
   "execution_count": 3,
   "metadata": {},
   "outputs": [],
   "source": [
    "def menu():\n",
    "    print('********************************')\n",
    "    print(' Seleccion la tarea que desea relizar')\n",
    "    print('1. Tabla de amortizacion')\n",
    "    print('2. Calculadora Basica')\n",
    "    opcion = input('Seleccion: ')\n",
    "    print('********************************')\n",
    "    \n",
    "    if opcion == '1':\n",
    "        d1 = input('Ingrese el valor de la deuda')\n",
    "        t1 = input('Ingrese la tasa de amortizacion')\n",
    "        n1 = input('Ingrese el numero de peridos')\n",
    "        \n",
    "        # Llamo a la funcion para corre la tabla\n",
    "        amortizar(d = d1, t = t1, n = n1)\n",
    "        \n",
    "    elif opcion == '2':\n",
    "        a = float(input('Ingrese el valor de A: '))\n",
    "        b = float(input('Ingrese el valor de B: '))\n",
    "        \n",
    "        # Llamo a la funcion para corre la calculadora\n",
    "        opc = input('Ingrese la operacion: ')\n",
    "        calculadora(a,b,opc)\n",
    "    else:\n",
    "        print('Salir')"
   ]
  },
  {
   "cell_type": "code",
   "execution_count": 5,
   "metadata": {},
   "outputs": [
    {
     "name": "stdout",
     "output_type": "stream",
     "text": [
      "********************************\n",
      " Seleccion la tarea que desea relizar\n",
      "1. Tabla de amortizacion\n",
      "2. Calculadora Basica\n",
      "Seleccion: 2\n",
      "********************************\n",
      "Ingrese el valor de A: 5\n",
      "Ingrese el valor de B: 10\n",
      "Ingrese la operacion: +\n",
      "15.0\n"
     ]
    }
   ],
   "source": [
    "menu()"
   ]
  },
  {
   "cell_type": "code",
   "execution_count": null,
   "metadata": {},
   "outputs": [],
   "source": []
  }
 ],
 "metadata": {
  "kernelspec": {
   "display_name": "Python 3",
   "language": "python",
   "name": "python3"
  },
  "language_info": {
   "codemirror_mode": {
    "name": "ipython",
    "version": 3
   },
   "file_extension": ".py",
   "mimetype": "text/x-python",
   "name": "python",
   "nbconvert_exporter": "python",
   "pygments_lexer": "ipython3",
   "version": "3.7.4"
  },
  "varInspector": {
   "cols": {
    "lenName": 16,
    "lenType": 16,
    "lenVar": 40
   },
   "kernels_config": {
    "python": {
     "delete_cmd_postfix": "",
     "delete_cmd_prefix": "del ",
     "library": "var_list.py",
     "varRefreshCmd": "print(var_dic_list())"
    },
    "r": {
     "delete_cmd_postfix": ") ",
     "delete_cmd_prefix": "rm(",
     "library": "var_list.r",
     "varRefreshCmd": "cat(var_dic_list()) "
    }
   },
   "types_to_exclude": [
    "module",
    "function",
    "builtin_function_or_method",
    "instance",
    "_Feature"
   ],
   "window_display": false
  }
 },
 "nbformat": 4,
 "nbformat_minor": 2
}
