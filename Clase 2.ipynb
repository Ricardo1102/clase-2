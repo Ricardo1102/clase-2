{
 "cells": [
  {
   "cell_type": "markdown",
   "metadata": {},
   "source": [
    "### Ejercicio 3"
   ]
  },
  {
   "cell_type": "code",
   "execution_count": 3,
   "metadata": {},
   "outputs": [],
   "source": []
  },
  {
   "cell_type": "code",
   "execution_count": 9,
   "metadata": {},
   "outputs": [
    {
     "name": "stdout",
     "output_type": "stream",
     "text": [
      "Gire en la carrera 14\n"
     ]
    }
   ],
   "source": [
    "## Forma Basica\n",
    "\n",
    "giro = 'carrera 14'\n",
    "\n",
    "if giro == 'carrera 9':\n",
    "    print('Gire en la', giro)\n",
    "if giro == 'carrera 10':\n",
    "    print('Gire en la', giro)\n",
    "if giro == 'carrera 11':\n",
    "    print('Gire en la', giro)\n",
    "if giro == 'carrera 12':\n",
    "    print('Gire en la', giro)\n",
    "if giro == 'carrera 13':\n",
    "    print('Gire en la', giro)\n",
    "if giro == 'carrera 14':\n",
    "    print('Gire en la', giro)\n",
    "if giro == 'carrera 15':\n",
    "    print('Gire en la', giro)"
   ]
  },
  {
   "cell_type": "code",
   "execution_count": 7,
   "metadata": {},
   "outputs": [],
   "source": [
    "## Ingreso de la direccion por te clado y creacion de la funcion\n",
    "\n",
    "def ejercicio3():\n",
    "    giro = input('Ingrese la direccion : ')\n",
    "\n",
    "    if giro == 'carrera 9':\n",
    "        print('Gire en la', giro)\n",
    "    if giro == 'carrera 10':\n",
    "        print('Gire en la', giro)\n",
    "    if giro == 'carrera 11':\n",
    "        print('Gire en la', giro)\n",
    "    if giro == 'carrera 12':\n",
    "        print('Gire en la', giro)\n",
    "    if giro == 'carrera 13':\n",
    "        print('Gire en la', giro)\n",
    "    if giro == 'carrera 14':\n",
    "        print('Gire en la', giro)\n",
    "    if giro == 'carrera 15':\n",
    "        print('Gire en la', giro)"
   ]
  },
  {
   "cell_type": "code",
   "execution_count": 8,
   "metadata": {},
   "outputs": [
    {
     "name": "stdout",
     "output_type": "stream",
     "text": [
      "Ingrese la direccion : carrera 14\n",
      "Gire en la carrera 14\n"
     ]
    }
   ],
   "source": [
    "ejercicio3()"
   ]
  },
  {
   "cell_type": "code",
   "execution_count": 10,
   "metadata": {},
   "outputs": [],
   "source": [
    "def ejercicio3(giro:str):\n",
    "    if giro == 'carrera 9':\n",
    "        print('Gire en la', giro)\n",
    "    if giro == 'carrera 10':\n",
    "        print('Gire en la', giro)\n",
    "    if giro == 'carrera 11':\n",
    "        print('Gire en la', giro)\n",
    "    if giro == 'carrera 12':\n",
    "        print('Gire en la', giro)\n",
    "    if giro == 'carrera 13':\n",
    "        print('Gire en la', giro)\n",
    "    if giro == 'carrera 14':\n",
    "        print('Gire en la', giro)\n",
    "    if giro == 'carrera 15':\n",
    "        print('Gire en la', giro)"
   ]
  },
  {
   "cell_type": "code",
   "execution_count": null,
   "metadata": {},
   "outputs": [],
   "source": [
    "ejercicio3('carrera 9')"
   ]
  },
  {
   "cell_type": "code",
   "execution_count": 24,
   "metadata": {},
   "outputs": [],
   "source": [
    "def calculadora(a:float,b:float,opc:str):\n",
    "    if opc == '+':\n",
    "        c = a + b\n",
    "        print(c)\n",
    "        \n",
    "    if opc == '-':\n",
    "        c = a - b\n",
    "        print(c)\n",
    "        \n",
    "    if opc == '*':\n",
    "        c = a * b\n",
    "        print(c)\n",
    "        \n",
    "    if opc == '/':\n",
    "        if b != 0:\n",
    "            c = a / b\n",
    "            print(c)       \n",
    "        else:\n",
    "            print('Error')"
   ]
  },
  {
   "cell_type": "code",
   "execution_count": 28,
   "metadata": {},
   "outputs": [
    {
     "name": "stdout",
     "output_type": "stream",
     "text": [
      "Ingrese el valor de A: 5\n",
      "Ingrese el valor de B: 5\n",
      "Ingrese la operacion: +\n",
      "10.0\n"
     ]
    }
   ],
   "source": [
    "a = float(input('Ingrese el valor de A: '))\n",
    "b = float(input('Ingrese el valor de B: '))\n",
    "opc = input('Ingrese la operacion: ')\n",
    "\n",
    "calculadora(a,b,opc)"
   ]
  },
  {
   "cell_type": "markdown",
   "metadata": {},
   "source": [
    "### LISTA"
   ]
  },
  {
   "cell_type": "code",
   "execution_count": 32,
   "metadata": {},
   "outputs": [],
   "source": [
    "lista1 = []"
   ]
  },
  {
   "cell_type": "code",
   "execution_count": 33,
   "metadata": {},
   "outputs": [
    {
     "name": "stdout",
     "output_type": "stream",
     "text": [
      "[]\n"
     ]
    }
   ],
   "source": [
    "print(lista1)"
   ]
  },
  {
   "cell_type": "code",
   "execution_count": 39,
   "metadata": {},
   "outputs": [
    {
     "name": "stdout",
     "output_type": "stream",
     "text": [
      "[1, 1, 2, 3, 4, 1, 2, 3, 4]\n"
     ]
    }
   ],
   "source": [
    "lista1.append(1)\n",
    "lista1.append(2)\n",
    "lista1.append(3)\n",
    "lista1.append(4)\n",
    "\n",
    "print(lista1)\n",
    "#[1, 1, 2, 3, 4, 1, 2, 3, 4]\n",
    "# 0  1  2  3  4  5  6  7  8"
   ]
  },
  {
   "cell_type": "code",
   "execution_count": 41,
   "metadata": {},
   "outputs": [
    {
     "name": "stdout",
     "output_type": "stream",
     "text": [
      "3\n"
     ]
    }
   ],
   "source": [
    "print(lista1[7])"
   ]
  },
  {
   "cell_type": "code",
   "execution_count": 42,
   "metadata": {},
   "outputs": [],
   "source": [
    "texto = 'Esta es la clase de python basico'\n",
    "#'Esta es la clase de python basico'\n",
    "# 0123456789"
   ]
  },
  {
   "cell_type": "code",
   "execution_count": 48,
   "metadata": {},
   "outputs": [
    {
     "name": "stdout",
     "output_type": "stream",
     "text": [
      "a\n",
      "Est\n",
      "a es la clase de python basico\n",
      "Esta\n"
     ]
    }
   ],
   "source": [
    "print(texto[3])\n",
    "print(texto[:3])\n",
    "print(texto[3:])\n",
    "print(texto[0:4])"
   ]
  },
  {
   "cell_type": "markdown",
   "metadata": {},
   "source": [
    "### Ciclos repetitivos"
   ]
  },
  {
   "cell_type": "code",
   "execution_count": 55,
   "metadata": {},
   "outputs": [
    {
     "name": "stdout",
     "output_type": "stream",
     "text": [
      "0\n",
      "1\n",
      "2\n",
      "3\n",
      "4\n",
      "5\n",
      "6\n",
      "7\n",
      "8\n",
      "9\n"
     ]
    }
   ],
   "source": [
    "for i in range(0,10):\n",
    "    print(i)"
   ]
  },
  {
   "cell_type": "code",
   "execution_count": 58,
   "metadata": {},
   "outputs": [],
   "source": [
    "#listaEjemplo = [9,8,7,6,5,4,3,2,1]\n",
    "#\n",
    "listaEjemplo = [\"a\",\"b\",\"c\",\"d\",\"e\"]"
   ]
  },
  {
   "cell_type": "code",
   "execution_count": 59,
   "metadata": {},
   "outputs": [
    {
     "name": "stdout",
     "output_type": "stream",
     "text": [
      "a\n",
      "b\n",
      "c\n",
      "d\n",
      "e\n"
     ]
    }
   ],
   "source": [
    "for i in listaEjemplo:\n",
    "    print(i)"
   ]
  },
  {
   "cell_type": "markdown",
   "metadata": {},
   "source": [
    "### Tabla de amortizacion"
   ]
  },
  {
   "cell_type": "code",
   "execution_count": 62,
   "metadata": {},
   "outputs": [],
   "source": [
    "def amortizar(d,t,n):\n",
    "    print('Deuda: ',d)\n",
    "    print('Tasa: ', t)\n",
    "    print('Periodos: ', n)"
   ]
  },
  {
   "cell_type": "code",
   "execution_count": 63,
   "metadata": {},
   "outputs": [
    {
     "name": "stdout",
     "output_type": "stream",
     "text": [
      "Deuda:  5000000\n",
      "Tiempo:  11.13\n",
      "Periodos:  180\n"
     ]
    }
   ],
   "source": [
    "amortizar(5000000,11.13,180)"
   ]
  },
  {
   "cell_type": "code",
   "execution_count": 100,
   "metadata": {},
   "outputs": [],
   "source": [
    "def amortizar(**kwarg):\n",
    "    \n",
    "    print(kwarg)\n",
    "    print('Deuda: ', kwarg[\"d\"])\n",
    "    print('Tasa: ', kwarg[\"t\"])\n",
    "    print('Periodos: ', kwarg[\"n\"])\n",
    "    \n",
    "    d = float(kwarg[\"d\"])\n",
    "    t = float(kwarg[\"t\"])\n",
    "    n = int(kwarg[\"n\"])\n",
    "    \n",
    "    r = (d * t) / (1 - pow((1+t),- n)) # Cuota de amortizacion\n",
    "    k = 0\n",
    "    tabla = []\n",
    "    while k!= n:\n",
    "        renglon = []\n",
    "        \n",
    "        i = d * t # Interes\n",
    "        a = r - i # amortizacion\n",
    "        d = d - a # deuda\n",
    "        k += 1 # Contador de periodos\n",
    "        \n",
    "        renglon.append(i)\n",
    "        renglon.append(a)\n",
    "        renglon.append(int(d))\n",
    "        renglon.append(k)\n",
    "        tabla.append(renglon)\n",
    "    \n",
    "    for i in tabla:\n",
    "        print(i)"
   ]
  },
  {
   "cell_type": "code",
   "execution_count": 101,
   "metadata": {},
   "outputs": [
    {
     "name": "stdout",
     "output_type": "stream",
     "text": [
      "{'d': 5000000, 't': 0.11, 'n': 10}\n",
      "Deuda:  5000000\n",
      "Tasa:  0.11\n",
      "Periodos:  10\n",
      "[550000.0, 299007.1354874512, 4700992, 1]\n",
      "[517109.2150963804, 331897.92039107083, 4369094, 2]\n",
      "[480600.4438533626, 368406.69163408864, 4000688, 3]\n",
      "[440075.7077736128, 408931.4277138384, 3591756, 4]\n",
      "[395093.2507250906, 453913.8847623606, 3137842, 5]\n",
      "[345162.72340123093, 503844.4120862203, 2633998, 6]\n",
      "[289739.8380717467, 559267.2974157045, 2074731, 7]\n",
      "[228220.43535601918, 620786.700131432, 1453944, 8]\n",
      "[159933.89834156164, 689073.2371458896, 764871, 9]\n",
      "[84135.8422555138, 764871.2932319375, 0, 10]\n"
     ]
    }
   ],
   "source": [
    "amortizar(d = 5000000, t = 0.11, n = 10)"
   ]
  },
  {
   "cell_type": "markdown",
   "metadata": {},
   "source": [
    "### Multiplicacion de vertores"
   ]
  },
  {
   "cell_type": "code",
   "execution_count": 102,
   "metadata": {},
   "outputs": [],
   "source": [
    "import numpy as np"
   ]
  },
  {
   "cell_type": "code",
   "execution_count": 111,
   "metadata": {},
   "outputs": [
    {
     "ename": "ValueError",
     "evalue": "solve: Input operand 1 has a mismatch in its core dimension 0, with gufunc signature (m,m),(m,n)->(m,n) (size 2 is different from 3)",
     "output_type": "error",
     "traceback": [
      "\u001b[1;31m---------------------------------------------------------------------------\u001b[0m",
      "\u001b[1;31mValueError\u001b[0m                                Traceback (most recent call last)",
      "\u001b[1;32m<ipython-input-111-9609c0f6081e>\u001b[0m in \u001b[0;36m<module>\u001b[1;34m\u001b[0m\n\u001b[0;32m      6\u001b[0m \u001b[0mB\u001b[0m \u001b[1;33m=\u001b[0m \u001b[0mnp\u001b[0m\u001b[1;33m.\u001b[0m\u001b[0marray\u001b[0m\u001b[1;33m(\u001b[0m\u001b[1;33m[\u001b[0m\u001b[1;33m[\u001b[0m\u001b[1;36m3\u001b[0m\u001b[1;33m,\u001b[0m\u001b[1;36m4\u001b[0m\u001b[1;33m,\u001b[0m\u001b[1;36m5\u001b[0m\u001b[1;33m]\u001b[0m\u001b[1;33m,\u001b[0m\u001b[1;33m[\u001b[0m\u001b[1;36m1\u001b[0m\u001b[1;33m,\u001b[0m\u001b[1;36m1\u001b[0m\u001b[1;33m,\u001b[0m\u001b[1;36m4\u001b[0m\u001b[1;33m]\u001b[0m\u001b[1;33m,\u001b[0m\u001b[1;33m[\u001b[0m\u001b[1;36m2\u001b[0m\u001b[1;33m,\u001b[0m\u001b[1;36m1\u001b[0m\u001b[1;33m,\u001b[0m\u001b[1;36m4\u001b[0m\u001b[1;33m]\u001b[0m\u001b[1;33m]\u001b[0m\u001b[1;33m)\u001b[0m\u001b[1;33m\u001b[0m\u001b[1;33m\u001b[0m\u001b[0m\n\u001b[0;32m      7\u001b[0m \u001b[1;33m\u001b[0m\u001b[0m\n\u001b[1;32m----> 8\u001b[1;33m \u001b[0mprint\u001b[0m\u001b[1;33m(\u001b[0m\u001b[1;34m\"solucion\"\u001b[0m\u001b[1;33m,\u001b[0m \u001b[0mnp\u001b[0m\u001b[1;33m.\u001b[0m\u001b[0mlinalg\u001b[0m\u001b[1;33m.\u001b[0m\u001b[0msolve\u001b[0m\u001b[1;33m(\u001b[0m\u001b[0mB\u001b[0m\u001b[1;33m,\u001b[0m\u001b[0mA\u001b[0m\u001b[1;33m)\u001b[0m\u001b[1;33m)\u001b[0m\u001b[1;33m\u001b[0m\u001b[1;33m\u001b[0m\u001b[0m\n\u001b[0m",
      "\u001b[1;32mC:\\ProgramData\\Anaconda3\\lib\\site-packages\\numpy\\linalg\\linalg.py\u001b[0m in \u001b[0;36msolve\u001b[1;34m(a, b)\u001b[0m\n\u001b[0;32m    401\u001b[0m     \u001b[0msignature\u001b[0m \u001b[1;33m=\u001b[0m \u001b[1;34m'DD->D'\u001b[0m \u001b[1;32mif\u001b[0m \u001b[0misComplexType\u001b[0m\u001b[1;33m(\u001b[0m\u001b[0mt\u001b[0m\u001b[1;33m)\u001b[0m \u001b[1;32melse\u001b[0m \u001b[1;34m'dd->d'\u001b[0m\u001b[1;33m\u001b[0m\u001b[1;33m\u001b[0m\u001b[0m\n\u001b[0;32m    402\u001b[0m     \u001b[0mextobj\u001b[0m \u001b[1;33m=\u001b[0m \u001b[0mget_linalg_error_extobj\u001b[0m\u001b[1;33m(\u001b[0m\u001b[0m_raise_linalgerror_singular\u001b[0m\u001b[1;33m)\u001b[0m\u001b[1;33m\u001b[0m\u001b[1;33m\u001b[0m\u001b[0m\n\u001b[1;32m--> 403\u001b[1;33m     \u001b[0mr\u001b[0m \u001b[1;33m=\u001b[0m \u001b[0mgufunc\u001b[0m\u001b[1;33m(\u001b[0m\u001b[0ma\u001b[0m\u001b[1;33m,\u001b[0m \u001b[0mb\u001b[0m\u001b[1;33m,\u001b[0m \u001b[0msignature\u001b[0m\u001b[1;33m=\u001b[0m\u001b[0msignature\u001b[0m\u001b[1;33m,\u001b[0m \u001b[0mextobj\u001b[0m\u001b[1;33m=\u001b[0m\u001b[0mextobj\u001b[0m\u001b[1;33m)\u001b[0m\u001b[1;33m\u001b[0m\u001b[1;33m\u001b[0m\u001b[0m\n\u001b[0m\u001b[0;32m    404\u001b[0m \u001b[1;33m\u001b[0m\u001b[0m\n\u001b[0;32m    405\u001b[0m     \u001b[1;32mreturn\u001b[0m \u001b[0mwrap\u001b[0m\u001b[1;33m(\u001b[0m\u001b[0mr\u001b[0m\u001b[1;33m.\u001b[0m\u001b[0mastype\u001b[0m\u001b[1;33m(\u001b[0m\u001b[0mresult_t\u001b[0m\u001b[1;33m,\u001b[0m \u001b[0mcopy\u001b[0m\u001b[1;33m=\u001b[0m\u001b[1;32mFalse\u001b[0m\u001b[1;33m)\u001b[0m\u001b[1;33m)\u001b[0m\u001b[1;33m\u001b[0m\u001b[1;33m\u001b[0m\u001b[0m\n",
      "\u001b[1;31mValueError\u001b[0m: solve: Input operand 1 has a mismatch in its core dimension 0, with gufunc signature (m,m),(m,n)->(m,n) (size 2 is different from 3)"
     ]
    }
   ],
   "source": [
    "# Ingreso de la matriz A\n",
    "A = np.array([[2,3,1],[2,-7,4]])\n",
    "\n",
    "# Ingreso de la matriz B\n",
    "\n",
    "B = np.array([[3,4,5],[1,1,4],[2,1,4]])\n",
    "\n",
    "print(\"solucion\", np.linalg.solve(B,A))"
   ]
  },
  {
   "cell_type": "code",
   "execution_count": null,
   "metadata": {},
   "outputs": [],
   "source": []
  },
  {
   "cell_type": "markdown",
   "metadata": {},
   "source": [
    "### Busqueda de Caracter"
   ]
  },
  {
   "cell_type": "code",
   "execution_count": 120,
   "metadata": {},
   "outputs": [
    {
     "name": "stdout",
     "output_type": "stream",
     "text": [
      "30\n"
     ]
    }
   ],
   "source": [
    "texto = 'Clase de python X curso basico'\n",
    "print(len(texto))"
   ]
  },
  {
   "cell_type": "code",
   "execution_count": 130,
   "metadata": {},
   "outputs": [
    {
     "name": "stdout",
     "output_type": "stream",
     "text": [
      "Lo encontre en  9\n"
     ]
    }
   ],
   "source": [
    "caracter = 'p'\n",
    "contador = 0\n",
    "for i in texto:\n",
    "    #contador = contador + 1\n",
    "    if i == caracter: \n",
    "        print(\"Lo encontre en \", contador)\n",
    "    contador += 1"
   ]
  },
  {
   "cell_type": "code",
   "execution_count": 131,
   "metadata": {},
   "outputs": [
    {
     "name": "stdout",
     "output_type": "stream",
     "text": [
      "p\n"
     ]
    }
   ],
   "source": [
    "print(texto[9])"
   ]
  },
  {
   "cell_type": "code",
   "execution_count": 132,
   "metadata": {},
   "outputs": [
    {
     "name": "stdout",
     "output_type": "stream",
     "text": [
      "9\n"
     ]
    }
   ],
   "source": [
    "print(texto.find('p'))"
   ]
  },
  {
   "cell_type": "code",
   "execution_count": null,
   "metadata": {},
   "outputs": [],
   "source": []
  }
 ],
 "metadata": {
  "kernelspec": {
   "display_name": "Python 3",
   "language": "python",
   "name": "python3"
  },
  "language_info": {
   "codemirror_mode": {
    "name": "ipython",
    "version": 3
   },
   "file_extension": ".py",
   "mimetype": "text/x-python",
   "name": "python",
   "nbconvert_exporter": "python",
   "pygments_lexer": "ipython3",
   "version": "3.7.4"
  },
  "varInspector": {
   "cols": {
    "lenName": 16,
    "lenType": 16,
    "lenVar": 40
   },
   "kernels_config": {
    "python": {
     "delete_cmd_postfix": "",
     "delete_cmd_prefix": "del ",
     "library": "var_list.py",
     "varRefreshCmd": "print(var_dic_list())"
    },
    "r": {
     "delete_cmd_postfix": ") ",
     "delete_cmd_prefix": "rm(",
     "library": "var_list.r",
     "varRefreshCmd": "cat(var_dic_list()) "
    }
   },
   "types_to_exclude": [
    "module",
    "function",
    "builtin_function_or_method",
    "instance",
    "_Feature"
   ],
   "window_display": false
  }
 },
 "nbformat": 4,
 "nbformat_minor": 2
}
